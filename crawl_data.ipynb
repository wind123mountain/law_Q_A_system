{
 "cells": [
  {
   "cell_type": "code",
   "execution_count": 1,
   "metadata": {},
   "outputs": [],
   "source": [
    "# !pip install requests beautifulsoup4"
   ]
  },
  {
   "cell_type": "markdown",
   "metadata": {},
   "source": [
    "### **Crawl q&a data**"
   ]
  },
  {
   "cell_type": "markdown",
   "metadata": {},
   "source": [
    "#### **Get link**"
   ]
  },
  {
   "cell_type": "code",
   "execution_count": 25,
   "metadata": {},
   "outputs": [],
   "source": [
    "import requests\n",
    "from bs4 import BeautifulSoup\n",
    "\n",
    "def get_article_links(type, q, page=1):\n",
    "    url = f\"https://thuvienphapluat.vn/hoi-dap-phap-luat/tim-tu-van?searchType={type}&q={q}&searchField=1&page={page}\"\n",
    "    headers = {\n",
    "        \"User-Agent\": \"Mozilla/5.0 (Windows NT 10.0; Win64; x64) AppleWebKit/537.36 (KHTML, like Gecko) Chrome/91.0.4472.124 Safari/537.36\"\n",
    "    }\n",
    "\n",
    "    response = requests.get(url, headers=headers)\n",
    "    if response.status_code != 200:\n",
    "        print(\"Không thể truy cập trang web\")\n",
    "        return []\n",
    "\n",
    "    soup = BeautifulSoup(response.text, \"html.parser\")\n",
    "    links = []\n",
    "\n",
    "    \n",
    "    for info in soup.select(\"article\"):  # Chọn thẻ <article> của danh sách bài viết\n",
    "        link = info.select_one('a.title-link')\n",
    "        href = link.get(\"href\")\n",
    "        title = link.get(\"title\")\n",
    "        question = info.select_one('div.line-clamp-3').text.strip()\n",
    "        date = info.select_one('span.sub-time').text.split(\"|\")[-1].strip()\n",
    "\n",
    "        try:\n",
    "            keyword = info.select_one('div.keyword').text.strip()\n",
    "        except:\n",
    "            keyword = \"\"\n",
    "\n",
    "        if href and title and date and question:\n",
    "            links.append({'url': href,\n",
    "                        'title': title, \n",
    "                        'question': question, \n",
    "                        'date': date,\n",
    "                        'keyword': keyword})\n",
    "            \n",
    "    if len(links) < 10:\n",
    "        print(\"get_article_links\", q, page)\n",
    "        print(response.text)\n",
    "\n",
    "    return links\n",
    "\n",
    "\n",
    "# page = 1  # Thay đổi số trang tùy ý\n",
    "# article_links = get_article_links(f\"c%c3%b4ng+ty\", page)\n",
    "# for link in article_links:\n",
    "#     print(link)\n"
   ]
  },
  {
   "cell_type": "code",
   "execution_count": 30,
   "metadata": {},
   "outputs": [],
   "source": [
    "keys = [{'key': f\"c%c3%b4ng+ty\", 'pages': 221, 'searchType': 1},\n",
    "        {'key': f\"Doanh+nghi%e1%bb%87p\", 'pages': 233, 'searchType': 1},\n",
    "        {'key': f\"%22doanh+nghi%e1%bb%87p%22+%22c%c3%b4ng+ty%22\", 'pages': 356, 'searchType': 0}]"
   ]
  },
  {
   "cell_type": "code",
   "execution_count": null,
   "metadata": {},
   "outputs": [],
   "source": [
    "passed = {f\"c%c3%b4ng+ty\": set(), f\"Doanh+nghi%e1%bb%87p\": set(), f\"%22doanh+nghi%e1%bb%87p%22+%22c%c3%b4ng+ty%22\": set()}\n",
    "\n",
    "links = []"
   ]
  },
  {
   "cell_type": "code",
   "execution_count": 34,
   "metadata": {},
   "outputs": [
    {
     "data": {
      "text/plain": [
       "16486"
      ]
     },
     "execution_count": 34,
     "metadata": {},
     "output_type": "execute_result"
    }
   ],
   "source": [
    "for info in keys:\n",
    "    q = info[\"key\"]\n",
    "    type = info[\"searchType\"]\n",
    "    for p in range(1, info['pages'] + 1):\n",
    "        if p not in passed[q]:\n",
    "            try:\n",
    "                article_links = get_article_links(type, q, p)\n",
    "                links.extend(article_links)\n",
    "                passed[q].add(p)\n",
    "            except:\n",
    "                print(q, p)\n",
    "\n",
    "len(links)"
   ]
  },
  {
   "cell_type": "code",
   "execution_count": 35,
   "metadata": {},
   "outputs": [
    {
     "data": {
      "text/plain": [
       "10932"
      ]
     },
     "execution_count": 35,
     "metadata": {},
     "output_type": "execute_result"
    }
   ],
   "source": [
    "import unicodedata\n",
    "\n",
    "links_unicode_normalized = []\n",
    "url_set = set()\n",
    "\n",
    "for link in links:\n",
    "    if link['url'] not in url_set:\n",
    "        link_normalized = {}\n",
    "        link_normalized['url'] = link['url']\n",
    "        link_normalized['title'] = unicodedata.normalize(\"NFKC\", link['title'])\n",
    "        link_normalized['question'] = unicodedata.normalize(\"NFKC\", link['question'])\n",
    "        link_normalized['keyword'] = unicodedata.normalize(\"NFKC\", link['keyword'])\n",
    "        link_normalized['date'] = link['date']\n",
    "\n",
    "        links_unicode_normalized.append(link_normalized)\n",
    "        url_set.add(link['url'])\n",
    "\n",
    "len(links_unicode_normalized)"
   ]
  },
  {
   "cell_type": "code",
   "execution_count": 36,
   "metadata": {},
   "outputs": [],
   "source": [
    "import json\n",
    "\n",
    "with open(\"Data\\Q&A\\link_q&a.json\", \"w\", encoding=\"utf-8\") as f:\n",
    "    json.dump(links_unicode_normalized, f, indent=4, ensure_ascii=False)"
   ]
  },
  {
   "cell_type": "markdown",
   "metadata": {},
   "source": [
    "#### **Crawl data**"
   ]
  },
  {
   "cell_type": "code",
   "execution_count": 38,
   "metadata": {},
   "outputs": [],
   "source": [
    "import json\n",
    "\n",
    "with open('Data\\Q&A\\link_q&a.json', 'r', encoding='utf-8') as file:\n",
    "    links_unicode_normalized = json.load(file)"
   ]
  },
  {
   "cell_type": "code",
   "execution_count": 42,
   "metadata": {},
   "outputs": [
    {
     "data": {
      "text/plain": [
       "{'url': 'https://thuvienphapluat.vn/hoi-dap-phap-luat/839BBCE-hd-tot-nghiep-dai-hoc-ke-toan-co-the-tro-thanh-truong-ban-kiem-soat-cua-cong-ty-co-phan-hay-khong-dieu.html',\n",
       " 'title': 'Tốt nghiệp đại học Kế toán có thể trở thành Trưởng Ban kiểm soát của công ty cổ phần hay không? Điều kiện được dự thi cấp chứng chỉ kế toán viên, kiểm toán viên là gì?',\n",
       " 'question': 'Tốt nghiệp đại học Kế toán có thể trở thành Trưởng Ban kiểm soát của công ty cổ phần hay không? Điều kiện được dự thi cấp chứng chỉ kế toán viên, kiểm toán viên là gì? - Câu hỏi của anh Thanh (Quảng Bình)',\n",
       " 'keyword': 'Kế toán viên',\n",
       " 'date': '01/05/2023'}"
      ]
     },
     "execution_count": 42,
     "metadata": {},
     "output_type": "execute_result"
    }
   ],
   "source": [
    "links_unicode_normalized[0]"
   ]
  },
  {
   "cell_type": "code",
   "execution_count": 47,
   "metadata": {},
   "outputs": [],
   "source": [
    "import requests\n",
    "from bs4 import BeautifulSoup\n",
    "\n",
    "def get_html(info):\n",
    "    url = info['url']\n",
    "    headers = {\n",
    "        \"User-Agent\": \"Mozilla/5.0 (Windows NT 10.0; Win64; x64) AppleWebKit/537.36 (KHTML, like Gecko) Chrome/91.0.4472.124 Safari/537.36\"\n",
    "    }\n",
    "\n",
    "    response = requests.get(url, headers=headers)\n",
    "    if response.status_code != 200:\n",
    "        print(\"Không thể truy cập trang web\")\n",
    "        return []\n",
    "\n",
    "    soup = BeautifulSoup(response.text, \"html.parser\")\n",
    "    \n",
    "    data = {'metadata': info}\n",
    "    data['html'] = soup.select_one(\"section.news-content\")\n",
    "    data['law_hyper_links'] = []\n",
    "    \n",
    "    for info in data['html'].select(\"p a\"):\n",
    "        href = info.get(\"href\")\n",
    "        law = info.text.strip()\n",
    "        data['law_hyper_links'].append({'law': law, 'url': href})\n",
    "\n",
    "    return data\n",
    "\n",
    "\n",
    "# print(get_html(links_unicode_normalized[0]))\n"
   ]
  },
  {
   "cell_type": "code",
   "execution_count": 48,
   "metadata": {},
   "outputs": [],
   "source": [
    "data_html = []\n",
    "url_passed = set()"
   ]
  },
  {
   "cell_type": "code",
   "execution_count": 53,
   "metadata": {},
   "outputs": [
    {
     "data": {
      "text/plain": [
       "10932"
      ]
     },
     "execution_count": 53,
     "metadata": {},
     "output_type": "execute_result"
    }
   ],
   "source": [
    "for info in links_unicode_normalized:\n",
    "    if info['url'] not in url_passed:\n",
    "        try:\n",
    "            data_html.append(get_html(info=info))\n",
    "            url_passed.add(info['url'])\n",
    "        except:\n",
    "            print(info['url'])\n",
    "\n",
    "len(data_html)"
   ]
  },
  {
   "cell_type": "code",
   "execution_count": 79,
   "metadata": {},
   "outputs": [],
   "source": [
    "import json\n",
    "\n",
    "data_json_list = []\n",
    "for data in data_html:\n",
    "    if data != []:\n",
    "        data_json = data.copy()\n",
    "        data_json['html'] = unicodedata.normalize(\"NFKC\", str(data_json['html']))\n",
    "        data_json_list.append(data_json)\n",
    "\n",
    "with open(\"Data\\Q&A\\html_q&a.json\", \"w\", encoding=\"utf-8\") as f:\n",
    "    json.dump(data_json_list, f, ensure_ascii=False)\n",
    "\n",
    "with open(\"Data\\Q&A\\html_q&a_ascii.json\", \"w\", encoding=\"utf-8\") as f:\n",
    "    json.dump(data_json_list, f)"
   ]
  },
  {
   "cell_type": "markdown",
   "metadata": {},
   "source": [
    "#### **Preprocessing**"
   ]
  },
  {
   "cell_type": "code",
   "execution_count": null,
   "metadata": {},
   "outputs": [],
   "source": []
  },
  {
   "cell_type": "markdown",
   "metadata": {},
   "source": [
    "### **Crawl law doc**"
   ]
  },
  {
   "cell_type": "markdown",
   "metadata": {},
   "source": [
    "#### **Crawl metadata**"
   ]
  },
  {
   "cell_type": "code",
   "execution_count": 94,
   "metadata": {},
   "outputs": [],
   "source": [
    "import requests\n",
    "from bs4 import BeautifulSoup\n",
    "import re\n",
    "\n",
    "\n",
    "def get_doc_list(page=1):\n",
    "    url = \"https://vbpl.vn/VBQPPL_UserControls/Publishing_22/TimKiem/p_KetQuaTimKiemVanBan.aspx\"\n",
    "\n",
    "    payload = {\n",
    "        \"SearchIn\": \"Title1,Title\",\n",
    "        \"DivID\": \"resultSearch\",\n",
    "        \"IsVietNamese\": \"True\",\n",
    "        \"Page\": f\"{page}\",\n",
    "        \"type\": \"1\",\n",
    "        \"s\": \"0\",\n",
    "        \"DonVi\": \"13\",\n",
    "        \"Keyword\": \"Doanh nghiệp\",\n",
    "        \"stemp\": \"1\",\n",
    "        \"TimTrong1\": \"VBPQFulltext\",\n",
    "        \"TimTrong1\": \"Title\",\n",
    "        \"ddrDiaPhuong\": \"99999\",\n",
    "        \"order\": \"VBPQNgayBanHanh\",\n",
    "        \"TypeOfOrder\": \"False\",\n",
    "        \"TrangThaiHieuLuc\": \"7,6,4,3,2,1\"\n",
    "    }\n",
    "\n",
    "    headers = {\n",
    "        \"User-Agent\": \"Mozilla/5.0 (Windows NT 10.0; Win64; x64) AppleWebKit/537.36 (KHTML, like Gecko) Chrome/122.0.0.0 Safari/537.36\",\n",
    "        \"Content-Type\": \"application/x-www-form-urlencoded\"\n",
    "    }\n",
    "\n",
    "    response = requests.post(url, data=payload, headers=headers)\n",
    "    soup = BeautifulSoup(response.text, \"html.parser\")\n",
    "\n",
    "    info_list = []\n",
    "\n",
    "    for info in soup.select_one('ul.listLaw').select('div.item'):\n",
    "        law_info = {}\n",
    "\n",
    "        title = info.select_one('p.title')\n",
    "        law_info['title'] = title.select_one('a').text.strip()\n",
    "        law_info['link'] = \"https://vbpl.vn\" + title.select_one('a').get('href').split('&Keyword=')[0]\n",
    "\n",
    "        law_info['description'] = info.find(\"div\", class_=\"des\").text.strip()\n",
    "        law_info['ref'] = \"https://vbpl.vn\" + info.select_one('li.ref a').get('href').split('&Keyword=')[0]\n",
    "        law_info['attribute'] = \"https://vbpl.vn\" + info.select_one('li.thuoctinh a').get('href').split('&Keyword=')[0]\n",
    "        law_info['map'] = \"https://vbpl.vn\" + info.select_one('li.map a').get('href').split('&Keyword=')[0]\n",
    "        \n",
    "        law_info['date_issued'] = info.find(\"label\", string=re.compile(\"Ban hành:\")).find_next_sibling(string=True).strip()\n",
    "        law_info['effective_date'] = info.find(\"label\", string=re.compile(\"Hiệu lực:\")).find_next_sibling(string=True).strip()\n",
    "\n",
    "        status_tag = info.find(\"label\", string=re.compile(\"Trạng thái:\"))\n",
    "        law_info['status'] = status_tag.find_next_sibling(string=True).strip() if status_tag != None else \"Còn hiệu lực\"\n",
    "\n",
    "        info_list.append(law_info)\n",
    "\n",
    "    return info_list\n",
    "\n",
    "# get_doc_list(1)"
   ]
  },
  {
   "cell_type": "code",
   "execution_count": 95,
   "metadata": {},
   "outputs": [],
   "source": [
    "law_info_list = []\n",
    "page_passed = set()"
   ]
  },
  {
   "cell_type": "code",
   "execution_count": 97,
   "metadata": {},
   "outputs": [
    {
     "data": {
      "text/plain": [
       "1535"
      ]
     },
     "execution_count": 97,
     "metadata": {},
     "output_type": "execute_result"
    }
   ],
   "source": [
    "for page in range(1, 1000):\n",
    "    if page not in page_passed:\n",
    "        try:\n",
    "            info_list = get_doc_list(page)\n",
    "            if len(info_list) == 0:\n",
    "                break\n",
    "\n",
    "            law_info_list.extend(info_list)\n",
    "            page_passed.add(page)\n",
    "        except:\n",
    "            print(page)\n",
    "\n",
    "len(law_info_list)"
   ]
  },
  {
   "cell_type": "code",
   "execution_count": 100,
   "metadata": {},
   "outputs": [],
   "source": [
    "for law_info in law_info_list:\n",
    "    law_info['id'] = law_info['link'].split('ItemID=')[-1]"
   ]
  },
  {
   "cell_type": "code",
   "execution_count": 101,
   "metadata": {},
   "outputs": [],
   "source": [
    "import json\n",
    "\n",
    "with open(\"Data\\doc\\law_info_list.json\", \"w\", encoding=\"utf-8\") as f:\n",
    "    json.dump(law_info_list, f, indent=4, ensure_ascii=False)"
   ]
  },
  {
   "cell_type": "markdown",
   "metadata": {},
   "source": [
    "#### **Crawl doc**"
   ]
  },
  {
   "cell_type": "code",
   "execution_count": 1,
   "metadata": {},
   "outputs": [],
   "source": [
    "import json\n",
    "\n",
    "with open('Data\\doc\\law_info_list.json', 'r', encoding='utf-8') as file:\n",
    "    law_info_list = json.load(file)"
   ]
  },
  {
   "cell_type": "code",
   "execution_count": null,
   "metadata": {},
   "outputs": [],
   "source": [
    "import requests\n",
    "from bs4 import BeautifulSoup\n",
    "\n",
    "def crawl_law(info):\n",
    "    url = f'https://vbpl.vn/tw/Pages/vbpq-print.aspx?dvid=13&ItemID={info[\"id\"]}'\n",
    "    headers = {\n",
    "        \"User-Agent\": \"Mozilla/5.0 (Windows NT 10.0; Win64; x64) AppleWebKit/537.36 (KHTML, like Gecko) Chrome/91.0.4472.124 Safari/537.36\"\n",
    "    }\n",
    "\n",
    "    response = requests.get(url, headers=headers)\n",
    "    if response.status_code != 200:\n",
    "        print(\"Không thể truy cập trang web\")\n",
    "\n",
    "    soup = BeautifulSoup(response.text, \"html.parser\")\n",
    "\n",
    "    law = {'metadata': info}\n",
    "    law['html_data'] = str(soup.select_one('table.detailcontent'))\n",
    "\n",
    "    return law"
   ]
  },
  {
   "cell_type": "code",
   "execution_count": 3,
   "metadata": {},
   "outputs": [],
   "source": [
    "law_data = []\n",
    "law_crawled = set()"
   ]
  },
  {
   "cell_type": "code",
   "execution_count": null,
   "metadata": {},
   "outputs": [],
   "source": [
    "for info in law_info_list:\n",
    "    if info['id'] not in law_crawled:\n",
    "        try:\n",
    "            law_data.append(crawl_law(info=info))\n",
    "            law_crawled.add(info['id'])\n",
    "        except:\n",
    "            print(info['id'])\n",
    "\n",
    "len(law_data)"
   ]
  },
  {
   "cell_type": "code",
   "execution_count": 6,
   "metadata": {},
   "outputs": [],
   "source": [
    "import json\n",
    "import unicodedata\n",
    "\n",
    "with open(\"Data\\doc\\law_html.json\", \"w\", encoding=\"utf-8\") as f:\n",
    "    law_data_normalized = []\n",
    "    for data in law_data:\n",
    "        data_json = data.copy()\n",
    "        data_json['html_data'] = unicodedata.normalize(\"NFKC\", str(data_json['html_data']))\n",
    "        law_data_normalized.append(data_json)\n",
    "\n",
    "    json.dump(law_data_normalized, f, indent=4, ensure_ascii=False)"
   ]
  },
  {
   "cell_type": "markdown",
   "metadata": {},
   "source": [
    "#### **Preprocessing**"
   ]
  },
  {
   "cell_type": "code",
   "execution_count": 41,
   "metadata": {},
   "outputs": [],
   "source": [
    "import json\n",
    "\n",
    "with open('Data\\doc\\law_html.json', 'r', encoding='utf-8') as file:\n",
    "    law_raw = json.load(file)"
   ]
  },
  {
   "cell_type": "code",
   "execution_count": null,
   "metadata": {},
   "outputs": [
    {
     "data": {
      "text/plain": [
       "['Nghị quyết liên tịch',\n",
       " 'Thông tư liên tịch',\n",
       " 'Nghị quyết',\n",
       " 'Quyết định',\n",
       " 'Hiến pháp',\n",
       " 'Pháp lệnh',\n",
       " 'Nghị định',\n",
       " 'Thông tư',\n",
       " 'Bộ luật',\n",
       " 'Chỉ thị',\n",
       " 'Luật',\n",
       " 'Lệnh']"
      ]
     },
     "execution_count": 31,
     "metadata": {},
     "output_type": "execute_result"
    }
   ],
   "source": [
    "types = 'Hiến pháp,Bộ luật,Luật,Pháp lệnh,Lệnh,Nghị quyết,Nghị quyết liên tịch,Nghị định,Quyết định,Thông tư,Thông tư liên tịch,Chỉ thị'\n",
    "document_types = sorted(types.split(','), key=len, reverse=True)\n",
    "document_types"
   ]
  },
  {
   "cell_type": "code",
   "execution_count": 42,
   "metadata": {},
   "outputs": [
    {
     "data": {
      "image/png": "[encoded data removed]",
      "text/plain": [
       "<Figure size 1000x600 with 1 Axes>"
      ]
     },
     "metadata": {},
     "output_type": "display_data"
    }
   ],
   "source": [
    "import matplotlib.pyplot as plt\n",
    "from collections import Counter\n",
    "\n",
    "def show_num_doc():\n",
    "    # Bộ đếm số lượng từng loại văn bản\n",
    "    counter = Counter()\n",
    "\n",
    "    # Duyệt qua từng mục trong danh sách JSON\n",
    "    for item in law_raw:\n",
    "        title = item[\"metadata\"][\"title\"]\n",
    "        for doc_type in document_types:\n",
    "            if doc_type in title:\n",
    "                counter[doc_type] += 1\n",
    "                break  # Đếm mỗi văn bản theo loại đầu tiên khớp\n",
    "\n",
    "    # Vẽ biểu đồ\n",
    "    plt.figure(figsize=(10, 6))\n",
    "    plt.bar(counter.keys(), counter.values(), color=\"skyblue\")\n",
    "    plt.xlabel(\"Loại văn bản\")\n",
    "    plt.ylabel(\"Số lượng\")\n",
    "    plt.title(\"Thống kê số lượng văn bản theo loại\")\n",
    "    plt.xticks(rotation=45, ha=\"right\")\n",
    "    plt.grid(axis=\"y\", linestyle=\"--\", alpha=0.7)\n",
    "\n",
    "    # Hiển thị số lượng trên cột\n",
    "    for i, v in enumerate(counter.values()):\n",
    "        plt.text(i, v + 5, str(v), ha=\"center\", fontsize=10)\n",
    "\n",
    "    plt.show()\n",
    "\n",
    "show_num_doc()"
   ]
  },
  {
   "cell_type": "code",
   "execution_count": 46,
   "metadata": {},
   "outputs": [],
   "source": [
    "law_raw = [item for item in law_raw if \"Lệnh\" not in item[\"metadata\"][\"title\"] and \"Chỉ thị\" not in item[\"metadata\"][\"title\"]]"
   ]
  },
  {
   "cell_type": "code",
   "execution_count": 55,
   "metadata": {},
   "outputs": [
    {
     "data": {
      "image/png": "[encoded data removed]",
      "text/plain": [
       "<Figure size 1000x600 with 1 Axes>"
      ]
     },
     "metadata": {},
     "output_type": "display_data"
    }
   ],
   "source": [
    "\n",
    "import matplotlib.pyplot as plt\n",
    "import numpy as np\n",
    "from collections import defaultdict, Counter\n",
    "\n",
    "# Bộ đếm số lượng từng loại văn bản theo status\n",
    "doc_status_counts = defaultdict(Counter)\n",
    "\n",
    "# Duyệt qua danh sách dữ liệu\n",
    "for item in law_raw:\n",
    "    title = item[\"metadata\"][\"title\"]\n",
    "    status = item[\"metadata\"][\"status\"]\n",
    "\n",
    "    for doc_type in document_types:\n",
    "        if doc_type in title:\n",
    "            doc_status_counts[doc_type][status] += 1\n",
    "            break  # Chỉ tính theo loại đầu tiên khớp\n",
    "\n",
    "# Danh sách các trạng thái hiệu lực\n",
    "all_statuses = set()\n",
    "for counts in doc_status_counts.values():\n",
    "    all_statuses.update(counts.keys())\n",
    "all_statuses = sorted(all_statuses)  # Đảm bảo thứ tự trạng thái\n",
    "\n",
    "# Chuẩn bị dữ liệu vẽ biểu đồ\n",
    "labels = list(doc_status_counts.keys())  # Các loại văn bản\n",
    "status_data = {status: [doc_status_counts[doc].get(status, 0) for doc in labels] for status in all_statuses}\n",
    "\n",
    "# Vẽ biểu đồ cột xếp chồng (stacked bar chart)\n",
    "x = np.arange(len(labels))  # Tọa độ x\n",
    "width = 0.6  # Độ rộng cột\n",
    "\n",
    "fig, ax = plt.subplots(figsize=(10, 6))\n",
    "\n",
    "bottom = np.zeros(len(labels))  # Vị trí bắt đầu cho cột xếp chồng\n",
    "\n",
    "for status in all_statuses:\n",
    "    values = status_data[status]\n",
    "    ax.bar(x, values, width, label=status, bottom=bottom)\n",
    "    bottom += np.array(values)  # Cộng dồn cho phần tiếp theo\n",
    "\n",
    "# Gán nhãn\n",
    "ax.set_xlabel(\"Loại văn bản\")\n",
    "ax.set_ylabel(\"Số lượng\")\n",
    "ax.set_title(\"Thống kê số lượng văn bản theo loại và trạng thái\")\n",
    "ax.set_xticks(x)\n",
    "ax.set_xticklabels(labels, rotation=45, ha=\"right\")\n",
    "ax.legend(title=\"Trạng thái\")\n",
    "\n",
    "# Hiển thị số lượng trên cột\n",
    "for i in range(len(labels)):\n",
    "    total = sum(status_data[status][i] for status in all_statuses)\n",
    "    ax.text(i, total + 5, str(total), ha=\"center\", fontsize=10, color=\"black\")\n",
    "\n",
    "\n",
    "plt.show()"
   ]
  },
  {
   "cell_type": "code",
   "execution_count": null,
   "metadata": {},
   "outputs": [],
   "source": [
    "from bs4 import BeautifulSoup"
   ]
  },
  {
   "cell_type": "code",
   "execution_count": 70,
   "metadata": {},
   "outputs": [
    {
     "name": "stdout",
     "output_type": "stream",
     "text": [
      "QUYẾT ĐỊNH\n",
      "\n",
      "Về việc cử thành viên Ban Chỉ đạo Đổi mới và Phát triển doanh nghiệp\n",
      "\n",
      "_________________________\n",
      "\n",
      "THỦ TƯỚNG CHÍNH PHỦ\n",
      "\n",
      "Căn cứ Luật Tổ chức Chính phủ ngày 25 tháng 12 năm 2001;\n",
      "\n",
      "Căn cứ Quyết định số 1525/QĐ-TTg ngày 13 tháng 11 năm 2007 của Thủ tướng Chính phủ về việc điều chỉnh phân công người đứng đầu tổ chức phối hợp liên ngành do Thủ tướng Chính phủ thành lập;\n",
      "\n",
      "Xét đề nghị của các Bộ: Tài chính, Kế hoạch và Đầu tư, Lao động – Thương binh và Xã hội, Nội vụ, Tư pháp và các cơ quan: Văn phòng Trung ương Đảng, Tổng Liên đoàn Lao động Việt Nam,\n",
      "\n",
      "QUYẾT ĐỊNH:\n",
      "\n",
      "Điều 1. Cử thành viên Ban Chỉ đạo Đổi mới và Phát triển doanh nghiệp như sau:\n",
      "\n",
      "1. Trưởng ban: Phó Thủ tướng Thường trực Chính phủ Nguyễn Sinh Hùng.\n",
      "\n",
      "2. Phó Trưởng ban Thường trực: Ông Phạm Viết Muôn, Phó Chủ nhiệm Văn phòng Chính phủ.\n",
      "\n",
      "3. Các Ủy viên:\n",
      "\n",
      "- Ông Trần Xuân Hà, Thứ trưởng Bộ Tài chính.\n",
      "\n",
      "- Ông Trương Văn Đoan, Thứ trưởng Bộ Kế hoạch và Đầu tư.\n",
      "\n",
      "- Ông Nguyễn Thanh Hòa, Thứ trưởng Bộ Lao động – Thương binh và Xã hội.\n",
      "\n",
      "- Ông Thang Văn Phúc, Thứ trưởng Bộ Nội vụ.\n",
      "\n",
      "- Ông Đinh Trung Tụng, Thứ trưởng Bộ Tư pháp.\n",
      "\n",
      "- Ông Phạm Đình Phú, Phó Chánh Văn phòng Trung ương Đảng.\n",
      "\n",
      "- Ông Mai Đức Chính, Phó Chủ tịch Tổng Liên đoàn Lao động Việt Nam.\n",
      "\n",
      "Điều 2. Quyết định này thay thế Quyết định số 1050/QĐ-TTg ngày 23 tháng 10 năm 2000 của Thủ tướng Chính phủ về việc cử thành viên Ban Chỉ đạo Đổi mới và Phát triển doanh nghiệp.\n",
      "\n",
      "Điều 3. Quyết định này có hiệu lực thi hành kể từ ngày ký.\n",
      "\n",
      "Điều 4. Trưởng ban Ban Chỉ đạo Đổi mới và Phát triển doanh nghiệp, Bộ trưởng các Bộ: Kế hoạch và Đầu tư, Tài chính, Tư pháp, Lao động – Thương binh và Xã hội, Nội vụ; Chánh Văn phòng Trung ương Đảng, Chủ tịch Tổng Liên đoàn Lao động Việt Nam và các thành viên có tên tại Điều 1 Quyết định này chịu trách nhiệm thi hành./.\n"
     ]
    }
   ],
   "source": [
    "print(BeautifulSoup(law_raw[300]['html_data'], \"html.parser\").text.strip())"
   ]
  },
  {
   "cell_type": "code",
   "execution_count": 67,
   "metadata": {},
   "outputs": [
    {
     "data": {
      "text/plain": [
       "513"
      ]
     },
     "execution_count": 67,
     "metadata": {},
     "output_type": "execute_result"
    }
   ],
   "source": [
    "len(law_raw[300]['html_data'].split())"
   ]
  },
  {
   "cell_type": "code",
   "execution_count": 72,
   "metadata": {},
   "outputs": [],
   "source": [
    "law_corpus = law_raw.copy()\n",
    "\n",
    "for law in law_corpus:\n",
    "    law['data'] = BeautifulSoup(law['html_data'], \"html.parser\").text.strip()"
   ]
  },
  {
   "cell_type": "code",
   "execution_count": 84,
   "metadata": {},
   "outputs": [],
   "source": [
    "with open(\"Data\\doc\\law_corpus.json\", \"w\", encoding=\"utf-8\") as f:\n",
    "    json.dump(law_corpus, f, indent=4, ensure_ascii=False)"
   ]
  }
 ],
 "metadata": {
  "kernelspec": {
   "display_name": "base",
   "language": "python",
   "name": "python3"
  },
  "language_info": {
   "codemirror_mode": {
    "name": "ipython",
    "version": 3
   },
   "file_extension": ".py",
   "mimetype": "text/x-python",
   "name": "python",
   "nbconvert_exporter": "python",
   "pygments_lexer": "ipython3",
   "version": "3.10.15"
  }
 },
 "nbformat": 4,
 "nbformat_minor": 2
}
